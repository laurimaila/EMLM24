{
 "cells": [
  {
   "cell_type": "markdown",
   "metadata": {
    "collapsed": false
   },
   "source": [
    "# 1. Nested cross-validation exercise\n",
    "## Nested cross-validation for feature selection with nearest neighbors <br>\n",
    "- Use Python 3 to program both a hyper-parameter selection method based on 5-fold cross-validation and a nested 5-fold cross-validation for estimating the prediction performance of models inferred with this automatic selection approach. Use base learning algorithm provided in the exercise, namely the \"use_ith_feature\" method, so that the value of the hyper-parameter i is automatically selected from the range from 1 to 100 of alternative values. The provided base learning algorithm \"use_ith_feature\" is 1-nearest neighbor that uses only the ith feature of the data given to it. The 5-fold CV based hyper-parameter selection procedure is supposed to select the best feature, e.g. the value of i, based on C-index evaluated with predictions obtained with 5-fold cross-validation. A ready-made implementation of C-index is also provided in the exercise. In nested 5-fold cross-validation, a C_index value is further evaluated on the predictions obtained from an outer 5-fold cross-validation. During each round of this outer 5-fold CV, the whole feature selection process based on inner 5-fold CV is separately done and the selected feature is used for prediction for the test data points held out during that round of the outer CV. Accordingly, the actual learning algorithm, whose prediction performance will be evaluated with nested CV, is the one that automatically selects the single best feature with 5-fold cross-validation based model selection (see the lectures and the pseudo codes presented on them for more info on this interpretation).\n",
    "- Compare the C-index produced by nested 5-fold CV with the result of ordinary 5-fold CV with the best value of i e.g. the feature providing the highest 5-fold CV C-index, and show the C-index difference between the two methods.\n",
    "- Use the provided implementation of the \"use_ith_feature\" learning algorithm and C-index functions in your exercise.\n",
    "\n",
    "As a summary, for completing this exercise implement the following steps: \n",
    "_______________________________________________________________\n",
    "#### 1. Use 5-fold cross-validation for determining the optimal i-parameter for the data (X_train.csv, y_prediction.csv) from the set of possible values of i e.g. {1,...,100}. When you have found the optimal i, save the corresponding C-index (call it 5_fold_c_index) for this parameter.\n",
    "#### 2. Similarly, use nested cross-validation ( 5-fold CV both in outer and inner folds) for estimating the C-index (call it n_5_fold_c_index) of the method that selects the best feature with 5-fold approach. \n",
    "#### 3. Return both this notebook and as a PDF-file made from it in the exercise submit page. \n",
    "_______________________________________________________________\n",
    "\n",
    "Remember to use the provided learning algorithm use_ith_feature and C-index functions in your implementation! "
   ]
  },
  {
   "cell_type": "markdown",
   "metadata": {},
   "source": [
    "## Import libraries"
   ]
  },
  {
   "cell_type": "code",
   "execution_count": 1,
   "metadata": {
    "ExecuteTime": {
     "end_time": "2024-01-27T13:15:14.506145200Z",
     "start_time": "2024-01-27T13:15:14.496358800Z"
    }
   },
   "outputs": [
    {
     "ename": "ModuleNotFoundError",
     "evalue": "No module named 'numpy'",
     "output_type": "error",
     "traceback": [
      "\u001b[1;31m---------------------------------------------------------------------------\u001b[0m",
      "\u001b[1;31mModuleNotFoundError\u001b[0m                       Traceback (most recent call last)",
      "Cell \u001b[1;32mIn[1], line 2\u001b[0m\n\u001b[0;32m      1\u001b[0m \u001b[38;5;66;03m# In this cell import all libraries you need. For example: \u001b[39;00m\n\u001b[1;32m----> 2\u001b[0m \u001b[38;5;28;01mimport\u001b[39;00m \u001b[38;5;21;01mnumpy\u001b[39;00m \u001b[38;5;28;01mas\u001b[39;00m \u001b[38;5;21;01mnp\u001b[39;00m\n\u001b[0;32m      3\u001b[0m \u001b[38;5;28;01mfrom\u001b[39;00m \u001b[38;5;21;01msklearn\u001b[39;00m\u001b[38;5;21;01m.\u001b[39;00m\u001b[38;5;21;01mmodel_selection\u001b[39;00m \u001b[38;5;28;01mimport\u001b[39;00m KFold\n",
      "\u001b[1;31mModuleNotFoundError\u001b[0m: No module named 'numpy'"
     ]
    }
   ],
   "source": [
    "# In this cell import all libraries you need. For example: \n",
    "import numpy as np\n",
    "from sklearn.model_selection import KFold"
   ]
  },
  {
   "cell_type": "markdown",
   "metadata": {},
   "source": [
    "## Provided functions "
   ]
  },
  {
   "cell_type": "code",
   "execution_count": null,
   "metadata": {
    "ExecuteTime": {
     "end_time": "2024-01-27T13:15:14.507145700Z",
     "start_time": "2024-01-27T13:15:14.502965600Z"
    },
    "collapsed": false
   },
   "outputs": [],
   "source": [
    "\"\"\"\n",
    "C-index function: \n",
    "- INPUTS: \n",
    "'y' an array of the true output values\n",
    "'yp' an array of predicted output values\n",
    "- OUTPUT: \n",
    "The c-index value\n",
    "\"\"\"\n",
    "def cindex(y, yp):\n",
    "    n = 0\n",
    "    h_num = 0 \n",
    "    for i in range(0, len(y)):\n",
    "        t = y[i]\n",
    "        p = yp[i]\n",
    "        for j in range(i+1, len(y)):\n",
    "            nt = y[j]\n",
    "            np = yp[j]\n",
    "            if (t != nt): \n",
    "                n = n + 1\n",
    "                if (p < np and t < nt) or (p > np and t > nt): \n",
    "                    h_num += 1\n",
    "                elif (p == np):\n",
    "                    h_num += 0.5\n",
    "    return h_num/n\n",
    "\n",
    "\"\"\"\n",
    "Self-contained 1-nearest neighbor using only a single feature\n",
    "- INPUTS: \n",
    "'X_train' a numpy matrix of the X-features of the train data points\n",
    "'y_train' a numpy matrix of the output values of the train data points\n",
    "'X_test' a numpy matrix of the X-features of the test data points\n",
    "'i' the index of the feature to be used with 1-nearest neighbor\n",
    "- OUTPUT: \n",
    "'y_predictions' a list of the output value predictions\n",
    "\"\"\"\n",
    "def use_ith_feature(X_train, y_train, X_test, i):\n",
    "    y_predictions = []\n",
    "    for test_ind in range(0, X_test.shape[0]):\n",
    "        diff = X_test[test_ind, i] - X_train[:, i]\n",
    "        distances = np.sqrt(diff * diff)\n",
    "        sort_inds = np.array(np.argsort(distances), dtype=int)\n",
    "        y_predictions.append(y_train[sort_inds[0]])\n",
    "    return y_predictions\n"
   ]
  },
  {
   "cell_type": "markdown",
   "metadata": {},
   "source": [
    "## Your implementation here"
   ]
  },
  {
   "cell_type": "code",
   "execution_count": null,
   "metadata": {
    "ExecuteTime": {
     "end_time": "2024-01-27T13:18:31.756938400Z",
     "start_time": "2024-01-27T13:18:31.635583100Z"
    }
   },
   "outputs": [],
   "source": [
    "# Load data from CSV files\n",
    "X_train = np.loadtxt('X_train.csv', delimiter=',')\n",
    "y_prediction = np.loadtxt('y_prediction.csv', delimiter=',')\n",
    "\n",
    "# Find optimal i-parameter using 5-fold cross-validation\n",
    "def i_param_selection(x, y):\n",
    "    # Testing i values {0, 99}\n",
    "    i_values = range(0, 100)\n",
    "    \n",
    "    # Variables to store the (currently) best i-parameter and its C-index\n",
    "    best_i = None\n",
    "    best_c_index = -9999\n",
    "        \n",
    "    for i in i_values:\n",
    "        # Store the C-index for 5 folds\n",
    "        c_index_arr = []\n",
    "        \n",
    "        kf5 = KFold(n_splits=5, shuffle=True, random_state=7)\n",
    "        # Provides 5 folds of train/test indices\n",
    "        for train_index, test_index in kf5.split(x):\n",
    "            # Split the data into train/test according to the fold\n",
    "            x_train, x_test = x[train_index], x[test_index]\n",
    "            y_train, y_test = y[train_index], y[test_index]\n",
    "            \n",
    "            # Calculate Y prediction with use_ith_feature and\n",
    "            # then calculate C-index with the predictions\n",
    "            y_pred_val = use_ith_feature(x_train, y_train, x_test, i)\n",
    "            c_index_val = cindex(y_test, y_pred_val)\n",
    "            c_index_arr.append(c_index_val)\n",
    "            \n",
    "        # Calculate the mean C-index for single i-parameter\n",
    "        c_indexes_np = np.array(c_index_arr)\n",
    "        mean_c_index = np.mean(c_indexes_np)\n",
    "        # Replace best i-parameter and C-index if better than current best\n",
    "        if mean_c_index > best_c_index:\n",
    "            best_c_index = mean_c_index\n",
    "            best_i = i\n",
    "\n",
    "    return best_i, best_c_index\n",
    "\n",
    "best_i, five_fold_c_index = i_param_selection(X_train, y_prediction)"
   ]
  },
  {
   "cell_type": "code",
   "execution_count": null,
   "metadata": {
    "ExecuteTime": {
     "end_time": "2024-01-27T13:15:14.846571200Z",
     "start_time": "2024-01-27T13:15:14.573146400Z"
    },
    "collapsed": false
   },
   "outputs": [],
   "source": [
    "# Estimate the C-index using nested 5-fold cross-validation\n",
    "def nested_c_estimation(x, y):\n",
    "\n",
    "    # Store the C-index for 5 folds\n",
    "    outer_c_arr = []\n",
    "        \n",
    "    kf5_outer = KFold(n_splits=5, shuffle=True, random_state=14)\n",
    "    # Provides 5 folds of outer train/test indices, the train indices are used for both training and validation\n",
    "    for train_index, test_index in kf5_outer.split(x):\n",
    "        x_train, x_test = x[train_index], x[test_index]\n",
    "        y_train, y_test = y[train_index], y[test_index]\n",
    "\n",
    "        # We can use the i_param_selection function as the inner CV\n",
    "        # The outer test indices are NOT used in feature selection\n",
    "        inner_best_i = i_param_selection(x_train, y_train)[0]\n",
    "\n",
    "        # Then we test the best i-parameter on the outer, yet unused test data\n",
    "        y_pred_val = use_ith_feature(x_train, y_train, x_test, inner_best_i)\n",
    "        outer_c_index = cindex(y_test, y_pred_val)\n",
    "        outer_c_arr.append(outer_c_index)\n",
    "            \n",
    "    # Calculate and return the mean C-index from the outer folds\n",
    "    outer_c_arr_np = np.array(outer_c_arr)\n",
    "    mean_outer_c = np.mean(outer_c_arr_np)\n",
    "\n",
    "    return mean_outer_c\n",
    "\n",
    "n_5_fold_c_index = nested_c_estimation(X_train, y_prediction)"
   ]
  },
  {
   "cell_type": "code",
   "execution_count": null,
   "metadata": {
    "ExecuteTime": {
     "end_time": "2024-01-27T13:15:14.853345600Z",
     "start_time": "2024-01-27T13:15:14.848572100Z"
    },
    "collapsed": false
   },
   "outputs": [
    {
     "name": "stdout",
     "output_type": "stream",
     "text": [
      "With regular CV the best i-parameter was: 5 with C-index of: 0.74\n",
      "Using nested CV the average C-index was: 0.5533333333333333 which is 0.18666666666666665 lower than the C-index from regular CV\n"
     ]
    }
   ],
   "source": [
    "# Print the best i-parameter and its C-index\n",
    "print(f\"With regular CV the best i-parameter was: {best_i} with C-index of: {five_fold_c_index}\")\n",
    "print(f\"Using nested CV the average C-index was: {n_5_fold_c_index} which is {five_fold_c_index-n_5_fold_c_index} lower than the C-index from regular CV\")"
   ]
  },
  {
   "cell_type": "markdown",
   "metadata": {},
   "source": [
    "The nested CV gives lower C-index average (0.55) compared to the non-nested best C-index value (0.74). Seems logical since the nested CV evaluates the performance using left-out test data, which better represents the models performance on new data."
   ]
  }
 ],
 "metadata": {
  "kernelspec": {
   "display_name": "Python 3 (ipykernel)",
   "language": "python",
   "name": "python3"
  },
  "language_info": {
   "codemirror_mode": {
    "name": "ipython",
    "version": 3
   },
   "file_extension": ".py",
   "mimetype": "text/x-python",
   "name": "python",
   "nbconvert_exporter": "python",
   "pygments_lexer": "ipython3",
   "version": "3.12.1"
  },
  "toc": {
   "base_numbering": 1,
   "nav_menu": {},
   "number_sections": false,
   "sideBar": true,
   "skip_h1_title": false,
   "title_cell": "Table of Contents",
   "title_sidebar": "Contents",
   "toc_cell": false,
   "toc_position": {},
   "toc_section_display": true,
   "toc_window_display": true
  },
  "varInspector": {
   "cols": {
    "lenName": 16,
    "lenType": 16,
    "lenVar": 40
   },
   "kernels_config": {
    "python": {
     "delete_cmd_postfix": "",
     "delete_cmd_prefix": "del ",
     "library": "var_list.py",
     "varRefreshCmd": "print(var_dic_list())"
    },
    "r": {
     "delete_cmd_postfix": ") ",
     "delete_cmd_prefix": "rm(",
     "library": "var_list.r",
     "varRefreshCmd": "cat(var_dic_list()) "
    }
   },
   "types_to_exclude": [
    "module",
    "function",
    "builtin_function_or_method",
    "instance",
    "_Feature"
   ],
   "window_display": false
  }
 },
 "nbformat": 4,
 "nbformat_minor": 2
}
