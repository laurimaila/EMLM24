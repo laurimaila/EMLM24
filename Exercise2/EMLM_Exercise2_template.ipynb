{
 "cells": [
  {
   "cell_type": "markdown",
   "metadata": {},
   "source": [
    "Lauri Maila <br>\n",
    "Student number 2209361 <br>\n",
    "February, 6, 2024  <br>"
   ]
  },
  {
   "cell_type": "markdown",
   "metadata": {},
   "source": [
    "# Exercise 2 | TKO_7092 Evaluation of Machine Learning Methods 2024"
   ]
  },
  {
   "cell_type": "markdown",
   "metadata": {},
   "source": [
    "### Prediction of the metal ion content from multi-parameter data\n",
    "<b> Use K-Nearest Neighbor Regression with euclidean distance to predict total metal concentration (c_total), concentration of Cadmium (Cd) and concentration of Lead (Pb), using number of neighbors k = 1, 3, 5, 7.</b> <br>\n",
    "\n",
    "<b> Instructions: </b> \n",
    "\n",
    "    - You may use Nearest Neighbor Regression from https://scikit-learn.org/stable/modules/neighbors.html\n",
    "    - The data should be standarized using z-score (using sklearn.preprocessing.StandardScaler is advised).\n",
    "    - Implement Leave-One-Out cross-validation and calculate the C-index for each output (c_total, Cd, Pb). \n",
    "    - Implement Leave-Replicas-Out cross-validation and calculate the C-index for each output (c_total, Cd, Pb).\n",
    "    - Explain your code by adding detailed comments. \n",
    "    - Only provide code that is relevant to the exercise.\n",
    "    - Please submit your solution as a Jupyter Notebook (.ipynb) and as a PDF file. Ensure to include your full name in the filename.     \n",
    "    - Submit to moodle your solution on ** Wednesday 7 of February ** at the latest.\n",
    "  \n",
    "<b>Please follow the instructions and note that you are expected to submit your individual solution.<br>\n",
    "Identical or overly similar submissions will result in the exercise being marked as failed.\n",
    "</b>"
   ]
  },
  {
   "cell_type": "markdown",
   "metadata": {},
   "source": [
    "## Import libraries"
   ]
  },
  {
   "cell_type": "code",
   "execution_count": 12,
   "metadata": {
    "tags": []
   },
   "outputs": [],
   "source": [
    "# In this cell import all libraries you need. For example: \n",
    "import numpy as np\n",
    "import pandas as pd\n",
    "from sklearn.preprocessing import StandardScaler\n",
    "from sklearn.model_selection import LeaveOneOut\n",
    "from sklearn.neighbors import KNeighborsRegressor\n",
    "from sklearn.metrics import r2_score"
   ]
  },
  {
   "cell_type": "markdown",
   "metadata": {},
   "source": [
    "## Read and visualize the dataset"
   ]
  },
  {
   "cell_type": "code",
   "execution_count": 13,
   "metadata": {
    "tags": []
   },
   "outputs": [
    {
     "name": "stdout",
     "output_type": "stream",
     "text": [
      "Number of rows: 268\n",
      "Number of columns: 6\n"
     ]
    },
    {
     "data": {
      "text/html": [
       "<div>\n",
       "<style scoped>\n",
       "    .dataframe tbody tr th:only-of-type {\n",
       "        vertical-align: middle;\n",
       "    }\n",
       "\n",
       "    .dataframe tbody tr th {\n",
       "        vertical-align: top;\n",
       "    }\n",
       "\n",
       "    .dataframe thead th {\n",
       "        text-align: right;\n",
       "    }\n",
       "</style>\n",
       "<table border=\"1\" class=\"dataframe\">\n",
       "  <thead>\n",
       "    <tr style=\"text-align: right;\">\n",
       "      <th></th>\n",
       "      <th>Mod1</th>\n",
       "      <th>Mod2</th>\n",
       "      <th>Mod3</th>\n",
       "      <th>c_total</th>\n",
       "      <th>Cd</th>\n",
       "      <th>Pb</th>\n",
       "    </tr>\n",
       "  </thead>\n",
       "  <tbody>\n",
       "    <tr>\n",
       "      <th>0</th>\n",
       "      <td>9945</td>\n",
       "      <td>119</td>\n",
       "      <td>72335</td>\n",
       "      <td>0</td>\n",
       "      <td>0.0</td>\n",
       "      <td>0.0</td>\n",
       "    </tr>\n",
       "    <tr>\n",
       "      <th>1</th>\n",
       "      <td>9596</td>\n",
       "      <td>119</td>\n",
       "      <td>110542</td>\n",
       "      <td>0</td>\n",
       "      <td>0.0</td>\n",
       "      <td>0.0</td>\n",
       "    </tr>\n",
       "    <tr>\n",
       "      <th>2</th>\n",
       "      <td>10812</td>\n",
       "      <td>120</td>\n",
       "      <td>98594</td>\n",
       "      <td>0</td>\n",
       "      <td>0.0</td>\n",
       "      <td>0.0</td>\n",
       "    </tr>\n",
       "    <tr>\n",
       "      <th>3</th>\n",
       "      <td>10786</td>\n",
       "      <td>117</td>\n",
       "      <td>82977</td>\n",
       "      <td>0</td>\n",
       "      <td>0.0</td>\n",
       "      <td>0.0</td>\n",
       "    </tr>\n",
       "    <tr>\n",
       "      <th>4</th>\n",
       "      <td>10566</td>\n",
       "      <td>108</td>\n",
       "      <td>136416</td>\n",
       "      <td>14</td>\n",
       "      <td>0.0</td>\n",
       "      <td>14.0</td>\n",
       "    </tr>\n",
       "  </tbody>\n",
       "</table>\n",
       "</div>"
      ],
      "text/plain": [
       "    Mod1  Mod2    Mod3  c_total   Cd    Pb\n",
       "0   9945   119   72335        0  0.0   0.0\n",
       "1   9596   119  110542        0  0.0   0.0\n",
       "2  10812   120   98594        0  0.0   0.0\n",
       "3  10786   117   82977        0  0.0   0.0\n",
       "4  10566   108  136416       14  0.0  14.0"
      ]
     },
     "execution_count": 13,
     "metadata": {},
     "output_type": "execute_result"
    }
   ],
   "source": [
    "# In this cell read the file Water_data.csv\n",
    "waterdata_df = pd.read_csv('water_data.csv')\n",
    "dim = waterdata_df.shape\n",
    "print(\"Number of rows:\", dim[0])\n",
    "print(\"Number of columns:\", dim[1])\n",
    "waterdata_df.head()"
   ]
  },
  {
   "cell_type": "markdown",
   "metadata": {},
   "source": [
    "## Standardization of the dataset"
   ]
  },
  {
   "cell_type": "code",
   "execution_count": 14,
   "metadata": {
    "tags": []
   },
   "outputs": [
    {
     "data": {
      "text/html": [
       "<div>\n",
       "<style scoped>\n",
       "    .dataframe tbody tr th:only-of-type {\n",
       "        vertical-align: middle;\n",
       "    }\n",
       "\n",
       "    .dataframe tbody tr th {\n",
       "        vertical-align: top;\n",
       "    }\n",
       "\n",
       "    .dataframe thead th {\n",
       "        text-align: right;\n",
       "    }\n",
       "</style>\n",
       "<table border=\"1\" class=\"dataframe\">\n",
       "  <thead>\n",
       "    <tr style=\"text-align: right;\">\n",
       "      <th></th>\n",
       "      <th>Mod1</th>\n",
       "      <th>Mod2</th>\n",
       "      <th>Mod3</th>\n",
       "    </tr>\n",
       "  </thead>\n",
       "  <tbody>\n",
       "    <tr>\n",
       "      <th>0</th>\n",
       "      <td>-0.972283</td>\n",
       "      <td>-0.670482</td>\n",
       "      <td>-0.358179</td>\n",
       "    </tr>\n",
       "    <tr>\n",
       "      <th>1</th>\n",
       "      <td>-0.975878</td>\n",
       "      <td>-0.670482</td>\n",
       "      <td>0.259488</td>\n",
       "    </tr>\n",
       "    <tr>\n",
       "      <th>2</th>\n",
       "      <td>-0.963351</td>\n",
       "      <td>-0.670394</td>\n",
       "      <td>0.066333</td>\n",
       "    </tr>\n",
       "    <tr>\n",
       "      <th>3</th>\n",
       "      <td>-0.963619</td>\n",
       "      <td>-0.670657</td>\n",
       "      <td>-0.186137</td>\n",
       "    </tr>\n",
       "    <tr>\n",
       "      <th>4</th>\n",
       "      <td>-0.965885</td>\n",
       "      <td>-0.671447</td>\n",
       "      <td>0.677776</td>\n",
       "    </tr>\n",
       "  </tbody>\n",
       "</table>\n",
       "</div>"
      ],
      "text/plain": [
       "       Mod1      Mod2      Mod3\n",
       "0 -0.972283 -0.670482 -0.358179\n",
       "1 -0.975878 -0.670482  0.259488\n",
       "2 -0.963351 -0.670394  0.066333\n",
       "3 -0.963619 -0.670657 -0.186137\n",
       "4 -0.965885 -0.671447  0.677776"
      ]
     },
     "execution_count": 14,
     "metadata": {},
     "output_type": "execute_result"
    }
   ],
   "source": [
    "# In this cell, standardize the dataset features by removing the mean and scaling to unit variance. \n",
    "# In other words, use z-score to scale the dataset features (Mod1, Mod2, Mod3) \n",
    "# Print the 5 first samples (i.e. rows) of the scaled dataset\n",
    "\n",
    "# We'll use sklearn StandardScaler\n",
    "scaler = StandardScaler()\n",
    "\n",
    "# Fit and transform the chosen features\n",
    "scaled_features = scaler.fit_transform(waterdata_df[['Mod1', 'Mod2', 'Mod3']])\n",
    "\n",
    "# Create a DataFrame with the scaled features\n",
    "scaled_waterdata_df = pd.DataFrame(scaled_features, columns=['Mod1', 'Mod2', 'Mod3'])\n",
    "\n",
    "# Print the first 5 samples of the scaled dataset\n",
    "scaled_waterdata_df.head()"
   ]
  },
  {
   "cell_type": "markdown",
   "metadata": {},
   "source": [
    "## C-index code "
   ]
  },
  {
   "cell_type": "code",
   "execution_count": 15,
   "metadata": {
    "tags": []
   },
   "outputs": [],
   "source": [
    "# I'm using the C-index implementation given in the first exercise\n",
    "\"\"\"\n",
    "C-index function: \n",
    "- INPUTS: \n",
    "'y' an array of the true output values\n",
    "'yp' an array of predicted output values\n",
    "- OUTPUT: \n",
    "The c-index value\n",
    "\"\"\"\n",
    "def cindex(y, yp):\n",
    "    n = 0\n",
    "    h_num = 0 \n",
    "    for i in range(0, len(y)):\n",
    "        t = y[i]\n",
    "        p = yp[i]\n",
    "        for j in range(i+1, len(y)):\n",
    "            nt = y[j]\n",
    "            np = yp[j]\n",
    "            if (t != nt): \n",
    "                n = n + 1\n",
    "                if (p < np and t < nt) or (p > np and t > nt): \n",
    "                    h_num += 1\n",
    "                elif (p == np):\n",
    "                    h_num += 0.5\n",
    "    return h_num/n"
   ]
  },
  {
   "cell_type": "code",
   "execution_count": 16,
   "metadata": {},
   "outputs": [
    {
     "name": "stdout",
     "output_type": "stream",
     "text": [
      "0.75\n"
     ]
    }
   ],
   "source": [
    "# Test the cindex function with following values\n",
    "true_labels = np.array([-1, 1, 1, -1, 1])\n",
    "predictions = np.array([0.60, 0.80, 0.75, 0.75, 0.70])\n",
    "cindx = cindex(true_labels, predictions)\n",
    "print(cindx) #For this example, a correct C-index implementation will result in 0.75"
   ]
  },
  {
   "cell_type": "markdown",
   "metadata": {},
   "source": [
    "## Leave-One-Out cross-validation\n",
    "In the following cell, write and execute your code for Leave-One-Out cross-validation using K-Nearest Neighbor Regression with k values of 1, 3, 5, and 7.<br>\n",
    "Print the corresponding Leave-One-Out C-index for c_total, Cd and Pb for each k value."
   ]
  },
  {
   "cell_type": "code",
   "execution_count": 21,
   "metadata": {},
   "outputs": [
    {
     "name": "stdout",
     "output_type": "stream",
     "text": [
      "Target variable: c_total\n"
     ]
    },
    {
     "ename": "ZeroDivisionError",
     "evalue": "division by zero",
     "output_type": "error",
     "traceback": [
      "\u001b[1;31m---------------------------------------------------------------------------\u001b[0m",
      "\u001b[1;31mZeroDivisionError\u001b[0m                         Traceback (most recent call last)",
      "Cell \u001b[1;32mIn[21], line 28\u001b[0m\n\u001b[0;32m     25\u001b[0m     y_pred \u001b[38;5;241m=\u001b[39m knn\u001b[38;5;241m.\u001b[39mpredict(X_test)\n\u001b[0;32m     27\u001b[0m     \u001b[38;5;66;03m# Calculate C-index\u001b[39;00m\n\u001b[1;32m---> 28\u001b[0m     total_cindex \u001b[38;5;241m+\u001b[39m\u001b[38;5;241m=\u001b[39m \u001b[43mcindex\u001b[49m\u001b[43m(\u001b[49m\u001b[43my_test\u001b[49m\u001b[38;5;241;43m.\u001b[39;49m\u001b[43mvalues\u001b[49m\u001b[43m,\u001b[49m\u001b[43m \u001b[49m\u001b[43my_pred\u001b[49m\u001b[43m)\u001b[49m\n\u001b[0;32m     30\u001b[0m \u001b[38;5;66;03m# Calculate average C-index\u001b[39;00m\n\u001b[0;32m     31\u001b[0m avg_cindex \u001b[38;5;241m=\u001b[39m total_cindex \u001b[38;5;241m/\u001b[39m \u001b[38;5;28mlen\u001b[39m(X)\n",
      "Cell \u001b[1;32mIn[15], line 25\u001b[0m, in \u001b[0;36mcindex\u001b[1;34m(y, yp)\u001b[0m\n\u001b[0;32m     23\u001b[0m             \u001b[38;5;28;01melif\u001b[39;00m (p \u001b[38;5;241m==\u001b[39m np):\n\u001b[0;32m     24\u001b[0m                 h_num \u001b[38;5;241m+\u001b[39m\u001b[38;5;241m=\u001b[39m \u001b[38;5;241m0.5\u001b[39m\n\u001b[1;32m---> 25\u001b[0m \u001b[38;5;28;01mreturn\u001b[39;00m \u001b[43mh_num\u001b[49m\u001b[38;5;241;43m/\u001b[39;49m\u001b[43mn\u001b[49m\n",
      "\u001b[1;31mZeroDivisionError\u001b[0m: division by zero"
     ]
    }
   ],
   "source": [
    "X = scaled_waterdata_df[['Mod1', 'Mod2', 'Mod3']]\n",
    "y = waterdata_df[['c_total', 'Cd', 'Pb']]\n",
    "\n",
    "# Values of k to try\n",
    "k_values = [1, 3, 5, 7]\n",
    "\n",
    "# Iterate over each target variable\n",
    "for target_col in y.columns:\n",
    "    print(f\"Target variable: {target_col}\")\n",
    "    # Iterate over each k value\n",
    "    for k in k_values:\n",
    "        loocv = LeaveOneOut()\n",
    "        total_cindex = 0\n",
    "        \n",
    "        # Perform LOOCV\n",
    "        for train_index, test_index in loocv.split(X):\n",
    "            X_train, X_test = X.iloc[train_index], X.iloc[test_index]\n",
    "            y_train, y_test = y[target_col].iloc[train_index], y[target_col].iloc[test_index]\n",
    "            \n",
    "            # Initialize KNN regressor\n",
    "            knn = KNeighborsRegressor(n_neighbors=k)\n",
    "            knn.fit(X_train, y_train)\n",
    "            \n",
    "            # Predict on the test data\n",
    "            y_pred = knn.predict(X_test)\n",
    "            \n",
    "            # Calculate C-index\n",
    "            total_cindex += cindex(y_test.values, y_pred)\n",
    "        \n",
    "        # Calculate average C-index\n",
    "        avg_cindex = total_cindex / len(X)\n",
    "        print(f\"K = {k}: Leave-One-Out C-index: {avg_cindex:.4f}\")"
   ]
  },
  {
   "cell_type": "markdown",
   "metadata": {},
   "source": [
    " "
   ]
  },
  {
   "cell_type": "markdown",
   "metadata": {},
   "source": [
    "## Leave-Replicas-Out cross-validation"
   ]
  },
  {
   "cell_type": "markdown",
   "metadata": {
    "tags": []
   },
   "source": [
    "In the following cell, write and execute your code for Leave-Replicas-Out cross-validation using K-Nearest Neighbor Regression with k values of 1, 3, 5, and 7.<br>\n",
    "Print the corresponding Leave-Replicas-Out C-index for c_total, Cd and Pb for each k value."
   ]
  },
  {
   "cell_type": "code",
   "execution_count": null,
   "metadata": {},
   "outputs": [],
   "source": []
  },
  {
   "cell_type": "markdown",
   "metadata": {
    "tags": []
   },
   "source": [
    "## Plot Leave-One-Out and Leave-Replicas-Out Results"
   ]
  },
  {
   "cell_type": "markdown",
   "metadata": {
    "tags": []
   },
   "source": [
    "Note: You may plot the results as they were presented in the video lecture (refer to MOOC2-Module 2 .pptx slides)."
   ]
  },
  {
   "cell_type": "code",
   "execution_count": null,
   "metadata": {},
   "outputs": [],
   "source": []
  },
  {
   "cell_type": "markdown",
   "metadata": {},
   "source": [
    "## Interpretation of results\n",
    "#### Answer the following questions based on the results obtained\n",
    "- Which cross-validation method had more optimistic results? \n",
    "- Explain the reason for the optimistic results produced by the cross-validation method.\n",
    "- Which cross-validation method generalized better on unseen data? Why?"
   ]
  },
  {
   "cell_type": "code",
   "execution_count": 10,
   "metadata": {},
   "outputs": [],
   "source": [
    "#In this cell write your answers to the questions."
   ]
  }
 ],
 "metadata": {
  "kernelspec": {
   "display_name": "Python 3 (ipykernel)",
   "language": "python",
   "name": "python3"
  },
  "language_info": {
   "codemirror_mode": {
    "name": "ipython",
    "version": 3
   },
   "file_extension": ".py",
   "mimetype": "text/x-python",
   "name": "python",
   "nbconvert_exporter": "python",
   "pygments_lexer": "ipython3",
   "version": "3.9.13"
  },
  "toc": {
   "base_numbering": 1,
   "nav_menu": {},
   "number_sections": false,
   "sideBar": true,
   "skip_h1_title": false,
   "title_cell": "Table of Contents",
   "title_sidebar": "Contents",
   "toc_cell": false,
   "toc_position": {},
   "toc_section_display": true,
   "toc_window_display": true
  },
  "varInspector": {
   "cols": {
    "lenName": 16,
    "lenType": 16,
    "lenVar": 40
   },
   "kernels_config": {
    "python": {
     "delete_cmd_postfix": "",
     "delete_cmd_prefix": "del ",
     "library": "var_list.py",
     "varRefreshCmd": "print(var_dic_list())"
    },
    "r": {
     "delete_cmd_postfix": ") ",
     "delete_cmd_prefix": "rm(",
     "library": "var_list.r",
     "varRefreshCmd": "cat(var_dic_list()) "
    }
   },
   "types_to_exclude": [
    "module",
    "function",
    "builtin_function_or_method",
    "instance",
    "_Feature"
   ],
   "window_display": false
  }
 },
 "nbformat": 4,
 "nbformat_minor": 4
}
