{
 "cells": [
  {
   "cell_type": "markdown",
   "metadata": {},
   "source": [
    "Lauri Maila <br>\n",
    "Student number 2209361 <br>\n",
    "February, 6, 2024  <br>"
   ]
  },
  {
   "cell_type": "markdown",
   "metadata": {},
   "source": [
    "# Exercise 2 | TKO_7092 Evaluation of Machine Learning Methods 2024"
   ]
  },
  {
   "cell_type": "markdown",
   "metadata": {},
   "source": [
    "### Prediction of the metal ion content from multi-parameter data\n",
    "<b> Use K-Nearest Neighbor Regression with euclidean distance to predict total metal concentration (c_total), concentration of Cadmium (Cd) and concentration of Lead (Pb), using number of neighbors k = 1, 3, 5, 7.</b> <br>\n",
    "\n",
    "<b> Instructions: </b> \n",
    "\n",
    "    - You may use Nearest Neighbor Regression from https://scikit-learn.org/stable/modules/neighbors.html\n",
    "    - The data should be standarized using z-score (using sklearn.preprocessing.StandardScaler is advised).\n",
    "    - Implement Leave-One-Out cross-validation and calculate the C-index for each output (c_total, Cd, Pb). \n",
    "    - Implement Leave-Replicas-Out cross-validation and calculate the C-index for each output (c_total, Cd, Pb).\n",
    "    - Explain your code by adding detailed comments. \n",
    "    - Only provide code that is relevant to the exercise.\n",
    "    - Please submit your solution as a Jupyter Notebook (.ipynb) and as a PDF file. Ensure to include your full name in the filename.     \n",
    "    - Submit to moodle your solution on ** Wednesday 7 of February ** at the latest.\n",
    "  \n",
    "<b>Please follow the instructions and note that you are expected to submit your individual solution.<br>\n",
    "Identical or overly similar submissions will result in the exercise being marked as failed.\n",
    "</b>"
   ]
  },
  {
   "cell_type": "markdown",
   "metadata": {},
   "source": [
    "## Import libraries"
   ]
  },
  {
   "cell_type": "code",
   "execution_count": 74,
   "metadata": {
    "tags": []
   },
   "outputs": [],
   "source": [
    "# In this cell import all libraries you need. For example: \n",
    "import numpy as np\n",
    "import pandas as pd\n",
    "from sklearn.preprocessing import StandardScaler\n",
    "from sklearn.model_selection import LeaveOneOut, LeaveOneGroupOut\n",
    "from sklearn.neighbors import KNeighborsRegressor\n",
    "import matplotlib.pyplot as plt"
   ]
  },
  {
   "cell_type": "markdown",
   "metadata": {},
   "source": [
    "## Read and visualize the dataset"
   ]
  },
  {
   "cell_type": "code",
   "execution_count": 75,
   "metadata": {
    "tags": []
   },
   "outputs": [
    {
     "name": "stdout",
     "output_type": "stream",
     "text": [
      "Number of rows: 268\n",
      "Number of columns: 6\n"
     ]
    },
    {
     "data": {
      "text/html": [
       "<div>\n",
       "<style scoped>\n",
       "    .dataframe tbody tr th:only-of-type {\n",
       "        vertical-align: middle;\n",
       "    }\n",
       "\n",
       "    .dataframe tbody tr th {\n",
       "        vertical-align: top;\n",
       "    }\n",
       "\n",
       "    .dataframe thead th {\n",
       "        text-align: right;\n",
       "    }\n",
       "</style>\n",
       "<table border=\"1\" class=\"dataframe\">\n",
       "  <thead>\n",
       "    <tr style=\"text-align: right;\">\n",
       "      <th></th>\n",
       "      <th>Mod1</th>\n",
       "      <th>Mod2</th>\n",
       "      <th>Mod3</th>\n",
       "      <th>c_total</th>\n",
       "      <th>Cd</th>\n",
       "      <th>Pb</th>\n",
       "    </tr>\n",
       "  </thead>\n",
       "  <tbody>\n",
       "    <tr>\n",
       "      <th>0</th>\n",
       "      <td>9945</td>\n",
       "      <td>119</td>\n",
       "      <td>72335</td>\n",
       "      <td>0</td>\n",
       "      <td>0.0</td>\n",
       "      <td>0.0</td>\n",
       "    </tr>\n",
       "    <tr>\n",
       "      <th>1</th>\n",
       "      <td>9596</td>\n",
       "      <td>119</td>\n",
       "      <td>110542</td>\n",
       "      <td>0</td>\n",
       "      <td>0.0</td>\n",
       "      <td>0.0</td>\n",
       "    </tr>\n",
       "    <tr>\n",
       "      <th>2</th>\n",
       "      <td>10812</td>\n",
       "      <td>120</td>\n",
       "      <td>98594</td>\n",
       "      <td>0</td>\n",
       "      <td>0.0</td>\n",
       "      <td>0.0</td>\n",
       "    </tr>\n",
       "    <tr>\n",
       "      <th>3</th>\n",
       "      <td>10786</td>\n",
       "      <td>117</td>\n",
       "      <td>82977</td>\n",
       "      <td>0</td>\n",
       "      <td>0.0</td>\n",
       "      <td>0.0</td>\n",
       "    </tr>\n",
       "    <tr>\n",
       "      <th>4</th>\n",
       "      <td>10566</td>\n",
       "      <td>108</td>\n",
       "      <td>136416</td>\n",
       "      <td>14</td>\n",
       "      <td>0.0</td>\n",
       "      <td>14.0</td>\n",
       "    </tr>\n",
       "  </tbody>\n",
       "</table>\n",
       "</div>"
      ],
      "text/plain": [
       "    Mod1  Mod2    Mod3  c_total   Cd    Pb\n",
       "0   9945   119   72335        0  0.0   0.0\n",
       "1   9596   119  110542        0  0.0   0.0\n",
       "2  10812   120   98594        0  0.0   0.0\n",
       "3  10786   117   82977        0  0.0   0.0\n",
       "4  10566   108  136416       14  0.0  14.0"
      ]
     },
     "execution_count": 75,
     "metadata": {},
     "output_type": "execute_result"
    }
   ],
   "source": [
    "# In this cell read the file Water_data.csv\n",
    "waterdata_df = pd.read_csv('water_data.csv')\n",
    "dim = waterdata_df.shape\n",
    "print(\"Number of rows:\", dim[0])\n",
    "print(\"Number of columns:\", dim[1])\n",
    "waterdata_df.head()"
   ]
  },
  {
   "cell_type": "markdown",
   "metadata": {},
   "source": [
    "## Standardization of the dataset"
   ]
  },
  {
   "cell_type": "code",
   "execution_count": 76,
   "metadata": {
    "tags": []
   },
   "outputs": [
    {
     "data": {
      "text/html": [
       "<div>\n",
       "<style scoped>\n",
       "    .dataframe tbody tr th:only-of-type {\n",
       "        vertical-align: middle;\n",
       "    }\n",
       "\n",
       "    .dataframe tbody tr th {\n",
       "        vertical-align: top;\n",
       "    }\n",
       "\n",
       "    .dataframe thead th {\n",
       "        text-align: right;\n",
       "    }\n",
       "</style>\n",
       "<table border=\"1\" class=\"dataframe\">\n",
       "  <thead>\n",
       "    <tr style=\"text-align: right;\">\n",
       "      <th></th>\n",
       "      <th>Mod1</th>\n",
       "      <th>Mod2</th>\n",
       "      <th>Mod3</th>\n",
       "    </tr>\n",
       "  </thead>\n",
       "  <tbody>\n",
       "    <tr>\n",
       "      <th>0</th>\n",
       "      <td>-0.972283</td>\n",
       "      <td>-0.670482</td>\n",
       "      <td>-0.358179</td>\n",
       "    </tr>\n",
       "    <tr>\n",
       "      <th>1</th>\n",
       "      <td>-0.975878</td>\n",
       "      <td>-0.670482</td>\n",
       "      <td>0.259488</td>\n",
       "    </tr>\n",
       "    <tr>\n",
       "      <th>2</th>\n",
       "      <td>-0.963351</td>\n",
       "      <td>-0.670394</td>\n",
       "      <td>0.066333</td>\n",
       "    </tr>\n",
       "    <tr>\n",
       "      <th>3</th>\n",
       "      <td>-0.963619</td>\n",
       "      <td>-0.670657</td>\n",
       "      <td>-0.186137</td>\n",
       "    </tr>\n",
       "    <tr>\n",
       "      <th>4</th>\n",
       "      <td>-0.965885</td>\n",
       "      <td>-0.671447</td>\n",
       "      <td>0.677776</td>\n",
       "    </tr>\n",
       "  </tbody>\n",
       "</table>\n",
       "</div>"
      ],
      "text/plain": [
       "       Mod1      Mod2      Mod3\n",
       "0 -0.972283 -0.670482 -0.358179\n",
       "1 -0.975878 -0.670482  0.259488\n",
       "2 -0.963351 -0.670394  0.066333\n",
       "3 -0.963619 -0.670657 -0.186137\n",
       "4 -0.965885 -0.671447  0.677776"
      ]
     },
     "execution_count": 76,
     "metadata": {},
     "output_type": "execute_result"
    }
   ],
   "source": [
    "# In this cell, standardize the dataset features by removing the mean and scaling to unit variance. \n",
    "# In other words, use z-score to scale the dataset features (Mod1, Mod2, Mod3) \n",
    "# Print the 5 first samples (i.e. rows) of the scaled dataset\n",
    "\n",
    "# I'll use sklearn StandardScaler to scale the features Mod1, Mod2 and Mod3\n",
    "scaler = StandardScaler()\n",
    "\n",
    "# Fit and transform the chosen features\n",
    "scaled_features = scaler.fit_transform(waterdata_df[['Mod1', 'Mod2', 'Mod3']])\n",
    "\n",
    "# Create a fd with the scaled features\n",
    "scaled_features_df = pd.DataFrame(scaled_features, columns=['Mod1', 'Mod2', 'Mod3'])\n",
    "\n",
    "# Print the first 5 samples of the scaled dataset\n",
    "scaled_features_df.head()"
   ]
  },
  {
   "cell_type": "markdown",
   "metadata": {},
   "source": [
    "## C-index code "
   ]
  },
  {
   "cell_type": "code",
   "execution_count": 77,
   "metadata": {
    "tags": []
   },
   "outputs": [],
   "source": [
    "# I'm using the same C-index implementation given in the first exercise\n",
    "\"\"\"\n",
    "C-index function: \n",
    "- INPUTS: \n",
    "'y' an array of the true output values\n",
    "'yp' an array of predicted output values\n",
    "- OUTPUT: \n",
    "The c-index value\n",
    "\"\"\"\n",
    "def cindex(y, yp):\n",
    "    n = 0\n",
    "    h_num = 0 \n",
    "    for i in range(0, len(y)):\n",
    "        t = y[i]\n",
    "        p = yp[i]\n",
    "        for j in range(i+1, len(y)):\n",
    "            nt = y[j]\n",
    "            np = yp[j]\n",
    "            if (t != nt): \n",
    "                n = n + 1\n",
    "                if (p < np and t < nt) or (p > np and t > nt): \n",
    "                    h_num += 1\n",
    "                elif (p == np):\n",
    "                    h_num += 0.5\n",
    "    return h_num/n"
   ]
  },
  {
   "cell_type": "code",
   "execution_count": 78,
   "metadata": {},
   "outputs": [
    {
     "name": "stdout",
     "output_type": "stream",
     "text": [
      "0.75\n"
     ]
    }
   ],
   "source": [
    "# Test the cindex function with following values\n",
    "true_labels = np.array([-1, 1, 1, -1, 1])\n",
    "predictions = np.array([0.60, 0.80, 0.75, 0.75, 0.70])\n",
    "cindx = cindex(true_labels, predictions)\n",
    "print(cindx) # This shoudl give 0.75, works fine"
   ]
  },
  {
   "cell_type": "markdown",
   "metadata": {},
   "source": [
    "## Leave-One-Out cross-validation\n",
    "In the following cell, write and execute your code for Leave-One-Out cross-validation using K-Nearest Neighbor Regression with k values of 1, 3, 5, and 7.<br>\n",
    "Print the corresponding Leave-One-Out C-index for c_total, Cd and Pb for each k value."
   ]
  },
  {
   "cell_type": "code",
   "execution_count": 79,
   "metadata": {},
   "outputs": [
    {
     "name": "stdout",
     "output_type": "stream",
     "text": [
      "Target variable: c_total\n"
     ]
    },
    {
     "name": "stdout",
     "output_type": "stream",
     "text": [
      "K = 1: Leave-One-Out C-index: 0.908\n",
      "K = 3: Leave-One-Out C-index: 0.920\n",
      "K = 5: Leave-One-Out C-index: 0.896\n",
      "K = 7: Leave-One-Out C-index: 0.884\n",
      "Target variable: Cd\n",
      "K = 1: Leave-One-Out C-index: 0.914\n",
      "K = 3: Leave-One-Out C-index: 0.912\n",
      "K = 5: Leave-One-Out C-index: 0.866\n",
      "K = 7: Leave-One-Out C-index: 0.832\n",
      "Target variable: Pb\n",
      "K = 1: Leave-One-Out C-index: 0.880\n",
      "K = 3: Leave-One-Out C-index: 0.885\n",
      "K = 5: Leave-One-Out C-index: 0.861\n",
      "K = 7: Leave-One-Out C-index: 0.841\n"
     ]
    }
   ],
   "source": [
    "# We'll use the scaled features for X data\n",
    "X = scaled_features_df[['Mod1', 'Mod2', 'Mod3']]\n",
    "y = waterdata_df[['c_total', 'Cd', 'Pb']]\n",
    "\n",
    "# K-values to test\n",
    "k_values = [1, 3, 5, 7]\n",
    "\n",
    "# Dict for the results for plotting at the end\n",
    "results_dict = []\n",
    "\n",
    "# Iterate for each target variable c_total, Cd and Pb\n",
    "for target_col in y.columns:\n",
    "    print(f\"Target variable: {target_col}\")\n",
    "    # Iterate for each k-value for the kNN\n",
    "    for k in k_values:\n",
    "        # Using LeaveOneOut() to get LOOCV indices\n",
    "        loocv = LeaveOneOut()\n",
    "\n",
    "        # Lists to store the predictions and actual values for C-index calculation\n",
    "        predictions = []\n",
    "        true_values = []\n",
    "        \n",
    "        # Split the data using LOOCV\n",
    "        for train_index, test_index in loocv.split(X):\n",
    "\n",
    "            X_train, X_test = X.iloc[train_index], X.iloc[test_index]\n",
    "            # Separate for each variable\n",
    "            y_train, y_test = y[target_col].iloc[train_index], y[target_col].iloc[test_index]\n",
    "            \n",
    "            # Initialize the kNN model\n",
    "            knn = KNeighborsRegressor(n_neighbors=k)\n",
    "            knn.fit(X_train, y_train)\n",
    "            \n",
    "            # Predict on the single test data using previously trained model\n",
    "            y_pred = knn.predict(X_test)\n",
    "            predictions.append(y_pred.tolist())\n",
    "            true_values.append(y_test.values.tolist())\n",
    "\n",
    "        # Calculate the C-index for the current k-value/variable and store it\n",
    "        loocv_cindex = cindex(np.array(true_values), np.array(predictions))\n",
    "        results_dict.append({'type': 'loocv', 'variable': target_col, 'k': k, 'cindex': loocv_cindex})\n",
    "\n",
    "        print(f\"K = {k}: Leave-One-Out C-index: {loocv_cindex:.3f}\")"
   ]
  },
  {
   "cell_type": "markdown",
   "metadata": {},
   "source": [
    " "
   ]
  },
  {
   "cell_type": "markdown",
   "metadata": {},
   "source": [
    "## Leave-Replicas-Out cross-validation"
   ]
  },
  {
   "cell_type": "markdown",
   "metadata": {
    "tags": []
   },
   "source": [
    "In the following cell, write and execute your code for Leave-Replicas-Out cross-validation using K-Nearest Neighbor Regression with k values of 1, 3, 5, and 7.<br>\n",
    "Print the corresponding Leave-Replicas-Out C-index for c_total, Cd and Pb for each k value."
   ]
  },
  {
   "cell_type": "code",
   "execution_count": 80,
   "metadata": {},
   "outputs": [
    {
     "name": "stdout",
     "output_type": "stream",
     "text": [
      "Target variable: c_total\n",
      "K = 1: Leave-Replicas-Out C-index: 0.786\n",
      "K = 3: Leave-Replicas-Out C-index: 0.776\n",
      "K = 5: Leave-Replicas-Out C-index: 0.773\n",
      "K = 7: Leave-Replicas-Out C-index: 0.781\n",
      "Target variable: Cd\n",
      "K = 1: Leave-Replicas-Out C-index: 0.697\n",
      "K = 3: Leave-Replicas-Out C-index: 0.693\n",
      "K = 5: Leave-Replicas-Out C-index: 0.678\n",
      "K = 7: Leave-Replicas-Out C-index: 0.673\n",
      "Target variable: Pb\n",
      "K = 1: Leave-Replicas-Out C-index: 0.744\n",
      "K = 3: Leave-Replicas-Out C-index: 0.758\n",
      "K = 5: Leave-Replicas-Out C-index: 0.751\n",
      "K = 7: Leave-Replicas-Out C-index: 0.752\n"
     ]
    }
   ],
   "source": [
    "# Create the replica groups for Leave-Replicas-Out CV\n",
    "def create_replica_groups(data):\n",
    "    # Get unique rows and their counts\n",
    "    _, idx, counts = np.unique(data, return_index=True, return_counts=True, axis=0)\n",
    "    groups = np.repeat(np.arange(len(counts)), counts)\n",
    "    return groups\n",
    "\n",
    "# Group labels based on replicas for each target variable\n",
    "groups = {}\n",
    "for target_col in y.columns:\n",
    "    # Create replica groups for each variable\n",
    "    groups[target_col] = create_replica_groups(y[target_col].to_numpy())\n",
    "\n",
    "# K-values to test\n",
    "k_values = [1, 3, 5, 7]\n",
    "\n",
    "# Iterate for each target variable c_total, Cd and Pb\n",
    "for target_col in y.columns:\n",
    "    print(f\"Target variable: {target_col}\")\n",
    "    # Iterate for each k-value for the kNN\n",
    "    for k in k_values:\n",
    "        # Using LeaveOneGroupOut() to get CV indices based on replica groups\n",
    "        lro = LeaveOneGroupOut()\n",
    "\n",
    "        # Lists to store the predictions and actual values for C-index calculation\n",
    "        predictions = []\n",
    "        true_values = []\n",
    "        \n",
    "        # Split the data using Leave-Replicas-Out CV\n",
    "        for train_index, test_index in lro.split(X, groups=groups[target_col]): # Use groups for correct variable\n",
    "            X_train, X_test = X.iloc[train_index], X.iloc[test_index]\n",
    "            y_train, y_test = y[target_col].iloc[train_index], y[target_col].iloc[test_index]\n",
    "            \n",
    "            # Initialize the kNN model\n",
    "            knn = KNeighborsRegressor(n_neighbors=k)\n",
    "            knn.fit(X_train, y_train)\n",
    "            \n",
    "            # Predict on the left out group data using previously trained model\n",
    "            y_pred = knn.predict(X_test)\n",
    "            predictions.extend(y_pred.tolist())\n",
    "            true_values.extend(y_test.values.tolist())\n",
    "\n",
    "        # Calculate the C-index for the current k-value/variable and store it\n",
    "        lro_cindex = cindex(np.array(true_values), np.array(predictions))\n",
    "        res = {'type': 'lro', 'variable': target_col, 'k': k, 'cindex': lro_cindex}\n",
    "        results_dict.append(res)\n",
    "\n",
    "        print(f\"K = {k}: Leave-Replicas-Out C-index: {lro_cindex:.3f}\")"
   ]
  },
  {
   "cell_type": "markdown",
   "metadata": {
    "tags": []
   },
   "source": [
    "## Plot Leave-One-Out and Leave-Replicas-Out Results"
   ]
  },
  {
   "cell_type": "markdown",
   "metadata": {
    "tags": []
   },
   "source": [
    "Note: You may plot the results as they were presented in the video lecture (refer to MOOC2-Module 2 .pptx slides)."
   ]
  },
  {
   "cell_type": "code",
   "execution_count": 81,
   "metadata": {},
   "outputs": [
    {
     "data": {
      "image/png": "[encoded data removed]",
      "text/plain": [
       "<Figure size 1500x500 with 3 Axes>"
      ]
     },
     "metadata": {},
     "output_type": "display_data"
    }
   ],
   "source": [
    "# Convert results_dict to a df for plotting\n",
    "results_df = pd.DataFrame(results_dict)\n",
    "\n",
    "num_rows = 1\n",
    "num_cols = 3\n",
    "\n",
    "fig, axs = plt.subplots(num_rows, num_cols, figsize=(15, 5))\n",
    "\n",
    "# Iterate over each variable and plot its c-index values and k-values\n",
    "for i, target_col in enumerate(y.columns):\n",
    "    target_df = results_df[results_df['variable'] == target_col]\n",
    "    ax = axs[i] if num_cols > 1 else axs\n",
    "    \n",
    "    # Separate plots for LOOCV and LRO\n",
    "    loocv_df = target_df[target_df['type'] == 'loocv']\n",
    "    lro_df = target_df[target_df['type'] == 'lro']\n",
    "    \n",
    "    # Plot the LOOCV data\n",
    "    ax.plot(loocv_df['k'], loocv_df['cindex'], color='blue', label='LOOCV')\n",
    "    \n",
    "    # Plot the LRO data\n",
    "    ax.plot(lro_df['k'], lro_df['cindex'], color='orange', label='LRO')\n",
    "    \n",
    "    ax.set_title(target_col)\n",
    "    ax.set_xlabel(\"K-value\")\n",
    "    ax.set_ylabel(\"C-index\")\n",
    "    ax.set_ylim(0, 1)\n",
    "    ax.set_yticks(np.arange(0, 1.1, step=0.1))\n",
    "    ax.legend()\n",
    "\n",
    "# Adjust layout\n",
    "plt.tight_layout()\n",
    "plt.show()"
   ]
  },
  {
   "cell_type": "markdown",
   "metadata": {},
   "source": [
    "## Interpretation of results\n",
    "#### Answer the following questions based on the results obtained\n",
    "- Which cross-validation method had more optimistic results? \n",
    "- Explain the reason for the optimistic results produced by the cross-validation method.\n",
    "- Which cross-validation method generalized better on unseen data? Why?"
   ]
  },
  {
   "cell_type": "markdown",
   "metadata": {},
   "source": [
    "Leave-One-Out had noticably more optimistic C-index results for \"unseen\" test data compared to Leave-Replicas-Out.\n",
    "The reason for this is that the dataset had multiple similar datapoints, so when one data point was left out its copies caused overfitting on test data.\n",
    "Leave-Group-Out in this scenario was better on unseen data, since less information \"leaked\" from the training process.\n"
   ]
  }
 ],
 "metadata": {
  "kernelspec": {
   "display_name": "Python 3 (ipykernel)",
   "language": "python",
   "name": "python3"
  },
  "language_info": {
   "codemirror_mode": {
    "name": "ipython",
    "version": 3
   },
   "file_extension": ".py",
   "mimetype": "text/x-python",
   "name": "python",
   "nbconvert_exporter": "python",
   "pygments_lexer": "ipython3",
   "version": "3.12.1"
  },
  "toc": {
   "base_numbering": 1,
   "nav_menu": {},
   "number_sections": false,
   "sideBar": true,
   "skip_h1_title": false,
   "title_cell": "Table of Contents",
   "title_sidebar": "Contents",
   "toc_cell": false,
   "toc_position": {},
   "toc_section_display": true,
   "toc_window_display": true
  },
  "varInspector": {
   "cols": {
    "lenName": 16,
    "lenType": 16,
    "lenVar": 40
   },
   "kernels_config": {
    "python": {
     "delete_cmd_postfix": "",
     "delete_cmd_prefix": "del ",
     "library": "var_list.py",
     "varRefreshCmd": "print(var_dic_list())"
    },
    "r": {
     "delete_cmd_postfix": ") ",
     "delete_cmd_prefix": "rm(",
     "library": "var_list.r",
     "varRefreshCmd": "cat(var_dic_list()) "
    }
   },
   "types_to_exclude": [
    "module",
    "function",
    "builtin_function_or_method",
    "instance",
    "_Feature"
   ],
   "window_display": false
  }
 },
 "nbformat": 4,
 "nbformat_minor": 4
}
