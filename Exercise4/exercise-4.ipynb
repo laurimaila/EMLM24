{
 "cells": [
  {
   "cell_type": "markdown",
   "metadata": {},
   "source": [
    "# TKO_7092 Evaluation of Machine Learning Methods 2024"
   ]
  },
  {
   "cell_type": "markdown",
   "metadata": {},
   "source": [
    "---\n",
    "\n",
    "Student name: Lauri Maila\n",
    "\n",
    "Student number: 2209361\n",
    "\n",
    "Student email: lkmail@utu.fi\n",
    "\n",
    "---"
   ]
  },
  {
   "cell_type": "markdown",
   "metadata": {},
   "source": [
    "## Exercise 4\n",
    "\n",
    "Complete the tasks given to you in the letter below. In your submission, explain clearly, precisely, and comprehensively why the cross-validation described in the letter failed, how cross-validation should be performed in the given scenario and why  your cross-validation will give a reliable estimate of the generalisation performance. Then implement the correct cross-validation for the scenario and report its results.\n",
    "\n",
    "Remember to follow all the general exercise guidelines that are stated in Moodle. Full points (2p) will be given for a submission that demonstrates a deep understanding of cross-validation on pair-input data and implements the requested cross-validation correctly (incl. reporting the results). Partial points (1p) will be given if there are small error(s) but the overall approach is correct. No points will be given if there are significant error(s).\n",
    "\n",
    "The deadline of this exercise is **Wednesday 21 February 2024 at 11:59 PM**. Please contact Juho Heimonen (juaheim@utu.fi) if you have any questions about this exercise.\n",
    "\n",
    "---\n"
   ]
  },
  {
   "cell_type": "markdown",
   "metadata": {},
   "source": [
    "Dear Data Scientist,\n",
    "\n",
    "I have a long-term research project regarding a specific set of proteins. Currently I am attempting to discover small organic compounds that can bind strongly to these proteins and thus act as drugs. I have a list of over 100.000 potential drug molecules, but their affinities still need to be verified in the lab. Obviously I do not have the resources to measure all the possible drug-target pairs, so I need to prioritise. I have decided to do this with the use of machine learning, but I have encountered a problem.\n",
    "\n",
    "Here is what I have done so far: First I trained a K-nearest neighbours regressor with the parameter value K=10 using all the 400 measurements I had made in the lab, which comprise of all the 77 target proteins of interest but only 59 different drug molecules. Then I performed a leave-one-out cross-validation with this same data to estimate the generalisation performance of the model. I used C-index and got a stellar score above 90%. Finally I used the model to predict the affinities of the remaining drug molecules. The problem is: when I selected the highest predicted affinities and tried to verify them in the lab, I found that many of them are much lower in reality. My model clearly does not work despite the high cross-validation score.\n",
    "\n",
    "Please explain why my estimation failed and how leave-one-out cross-validation should be performed to get a reliable estimate. Also, implement the correct leave-one-out cross-validation and report its results. I need to know whether I am wasting my lab resources by using my model.\n",
    "\n",
    "The data I used to create my model is available in the files `input.data`, `output.data` and `pairs.data` for you to use. The first file contains the features of the pairs, whereas the second contains their affinities. The third file contains the identifiers of the drug and target molecules of which the pairs are composed. The files are paired, i.e. the i<sup>*th*</sup> row in each file is about the same pair.\n",
    "\n",
    "Looking forward to hearing from you soon.\n",
    "\n",
    "Yours sincerely, \\\n",
    "Bio Scientist\n",
    "\n",
    "---"
   ]
  },
  {
   "cell_type": "markdown",
   "metadata": {},
   "source": [
    "#### Answer the questions about cross-validation on pair-input data"
   ]
  },
  {
   "cell_type": "code",
   "execution_count": 1,
   "metadata": {},
   "outputs": [],
   "source": [
    "# Why did the estimation described in the letter fail?\n",
    "# How should leave-one-out cross-validation be performed in the given scenario and why?\n",
    "# Remember to provide comprehensive and precise arguments."
   ]
  },
  {
   "cell_type": "markdown",
   "metadata": {},
   "source": [
    "#### Import libraries"
   ]
  },
  {
   "cell_type": "code",
   "execution_count": 2,
   "metadata": {},
   "outputs": [],
   "source": [
    "# Import the libraries you need.\n",
    "import numpy as np\n",
    "import pandas as pd\n",
    "import matplotlib.pyplot as plt\n",
    "from sklearn.preprocessing import StandardScaler\n",
    "from sklearn.neighbors import KNeighborsRegressor"
   ]
  },
  {
   "cell_type": "markdown",
   "metadata": {},
   "source": [
    "#### Write utility functions"
   ]
  },
  {
   "cell_type": "code",
   "execution_count": 3,
   "metadata": {},
   "outputs": [],
   "source": [
    "# I'm using the same C-index function that was provided in the first exercise\n",
    "### Function for calculating C-index ###\n",
    "# y: array containing true label values.\n",
    "# yp: array containing the predicted label values.\n",
    "def cindex(y, yp):\n",
    "    n = 0\n",
    "    h_num = 0 \n",
    "    for i in range(0, len(y)):\n",
    "        t = y[i]\n",
    "        p = yp[i]\n",
    "        for j in range(i+1, len(y)):\n",
    "            nt = y[j]\n",
    "            np = yp[j]\n",
    "            if (t != nt): \n",
    "                n = n + 1\n",
    "                if (p < np and t < nt) or (p > np and t > nt): \n",
    "                    h_num += 1\n",
    "                elif (p == np):\n",
    "                    h_num += 0.5\n",
    "    return h_num/n\n",
    "\n",
    "\n",
    "### Function for spatial leave-one-out cross-validation (LOOCV) ###\n",
    "def pairwise_cv(k, distance_param, coordinates, df_input, df_output):\n",
    "\n",
    "    # Number of input rows\n",
    "    n = df_input.shape[0]\n",
    "\n",
    "    # Calculate distance matrix from coordinates\n",
    "    dist_matrix = cdists(coordinates)\n",
    "    \n",
    "    # Store actual values and predictions for C-index calculation\n",
    "    true_values = []\n",
    "    predictions = []\n",
    "\n",
    "    # Loop over all data points (leave-one-out cross-validation)\n",
    "    for i in range(n):\n",
    "        X = df_input\n",
    "        y = df_output\n",
    "\n",
    "        # Use the i-th data point as test set\n",
    "        X_test = df_input.iloc[[i]]\n",
    "        y_test = df_output.iloc[[i]]\n",
    "        \n",
    "        # Find indices where the distance to current test point is <= to the distance parameter\n",
    "        nearby_indices = np.where((dist_matrix[i] <= distance_param))[0]\n",
    "\n",
    "        # Remove the nearby points from the training set\n",
    "        X_train = X.drop(index=nearby_indices, inplace=False)\n",
    "        y_train = y.drop(index=nearby_indices, inplace=False)\n",
    "        \n",
    "        # Fit the kNN model\n",
    "        knn = KNeighborsRegressor(n_neighbors=k)\n",
    "        knn.fit(X_train, y_train)\n",
    "        \n",
    "        # Predict model on the left out data point\n",
    "        y_pred = knn.predict(X_test)\n",
    "\n",
    "        # Store the predictions and true values\n",
    "        predictions.append(y_pred)\n",
    "        true_values.append(y_test.values.flatten())\n",
    "\n",
    "    # At the end, calculate the C-index using provided function\n",
    "    c_index = cindex(true_values, predictions)\n",
    "    return c_index"
   ]
  },
  {
   "cell_type": "markdown",
   "metadata": {},
   "source": [
    "#### Load datasets"
   ]
  },
  {
   "cell_type": "code",
   "execution_count": 14,
   "metadata": {},
   "outputs": [
    {
     "name": "stdout",
     "output_type": "stream",
     "text": [
      "         0         1         2         3         4         5         6   \\\n",
      "0  0.759222  0.709585  0.253151  0.421082  0.727780  0.404487  0.709027   \n",
      "1  0.034584  0.304720  0.688257  0.296396  0.151878  0.830755  0.270656   \n",
      "2  0.737867  0.236079  0.905987  0.163612  0.801455  0.789823  0.393999   \n",
      "3  0.406913  0.607740  0.235365  0.888679  0.150347  0.598991  0.130108   \n",
      "4  0.697707  0.432565  0.650329  0.886065  0.328660  0.576926  0.523100   \n",
      "\n",
      "         7         8         9   ...        57        58        59        60  \\\n",
      "0  0.242963  0.407292  0.379971  ...  0.838616  0.165050  0.515334  0.332678   \n",
      "1  0.705392  0.186120  0.085594  ...  0.472762  0.730013  0.639373  0.445218   \n",
      "2  0.522067  0.411352  0.781861  ...  0.595468  0.582292  0.836193  0.281514   \n",
      "3  0.465818  0.799953  0.906878  ...  0.453880  0.311799  0.534668  0.563793   \n",
      "4  0.080463  0.131349  0.913496  ...  0.583892  0.444141  0.249423  0.110690   \n",
      "\n",
      "         61        62        63        64        65        66  \n",
      "0  0.577533  0.678125  0.463608  0.538938  0.460883  0.345251  \n",
      "1  0.455680  0.090737  0.308432  0.079023  0.603089  0.197008  \n",
      "2  0.791790  0.081695  0.583450  0.422539  0.076437  0.299662  \n",
      "3  0.727767  0.172686  0.908368  0.786892  0.790459  0.666388  \n",
      "4  0.420770  0.250148  0.196350  0.427255  0.166715  0.919720  \n",
      "\n",
      "[5 rows x 67 columns]\n",
      "(400, 67)\n",
      "          0\n",
      "0  0.733933\n",
      "1  0.569419\n",
      "2  0.832588\n",
      "3  0.389664\n",
      "4  0.725953\n",
      "(400, 1)\n",
      "     D    T\n",
      "0  D40   T2\n",
      "1  D31  T64\n",
      "2   D6  T58\n",
      "3  D56  T49\n",
      "4  D20  T28\n",
      "(400, 2)\n"
     ]
    }
   ],
   "source": [
    "# Read the data files (input.data, output.data, pairs.data).\n",
    "df_input = pd.read_csv(\"input.data\", delimiter=\" \", header=None)\n",
    "df_output = pd.read_csv(\"output.data\", delimiter=\" \", header=None)\n",
    "df_pairs = pd.read_csv(\"pairs.data\", delimiter=\" \", header=None, names=[\"D\", \"T\"])\n",
    "print(df_input.head())\n",
    "print(df_input.shape)\n",
    "print(df_output.head())\n",
    "print(df_output.shape)\n",
    "print(df_pairs.head())\n",
    "print(df_pairs.shape)"
   ]
  },
  {
   "cell_type": "markdown",
   "metadata": {},
   "source": [
    "#### Implement and run cross-validation"
   ]
  },
  {
   "cell_type": "code",
   "execution_count": null,
   "metadata": {},
   "outputs": [],
   "source": [
    "# Implement and run the requested cross-validation. Report and interpret its results.\n",
    "# Using k=10 for kNN as stated in case\n",
    "k = 10 \n",
    "\n",
    "# Store c_index result for each distance parameter\n",
    "results = []\n",
    "\n",
    "for d in 10:\n",
    "    # Calculate C-index for each distance parameter\n",
    "    c_index = pairwise_cv(k, d, coordinates, df_input, df_output)\n",
    "    results.append({\"dist\": d, \"cind\": c_index})"
   ]
  }
 ],
 "metadata": {
  "kernelspec": {
   "display_name": "Python 3",
   "language": "python",
   "name": "python3"
  },
  "language_info": {
   "codemirror_mode": {
    "name": "ipython",
    "version": 3
   },
   "file_extension": ".py",
   "mimetype": "text/x-python",
   "name": "python",
   "nbconvert_exporter": "python",
   "pygments_lexer": "ipython3",
   "version": "3.9.13"
  }
 },
 "nbformat": 4,
 "nbformat_minor": 2
}
