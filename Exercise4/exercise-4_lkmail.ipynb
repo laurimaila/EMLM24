{
 "cells": [
  {
   "cell_type": "markdown",
   "metadata": {},
   "source": [
    "# TKO_7092 Evaluation of Machine Learning Methods 2024"
   ]
  },
  {
   "cell_type": "markdown",
   "metadata": {},
   "source": [
    "---\n",
    "\n",
    "Student name: Lauri Maila\n",
    "\n",
    "Student number: 2209361\n",
    "\n",
    "Student email: lkmail@utu.fi\n",
    "\n",
    "---"
   ]
  },
  {
   "cell_type": "markdown",
   "metadata": {},
   "source": [
    "## Exercise 4\n",
    "\n",
    "Complete the tasks given to you in the letter below. In your submission, explain clearly, precisely, and comprehensively why the cross-validation described in the letter failed, how cross-validation should be performed in the given scenario and why  your cross-validation will give a reliable estimate of the generalisation performance. Then implement the correct cross-validation for the scenario and report its results.\n",
    "\n",
    "Remember to follow all the general exercise guidelines that are stated in Moodle. Full points (2p) will be given for a submission that demonstrates a deep understanding of cross-validation on pair-input data and implements the requested cross-validation correctly (incl. reporting the results). Partial points (1p) will be given if there are small error(s) but the overall approach is correct. No points will be given if there are significant error(s).\n",
    "\n",
    "The deadline of this exercise is **Wednesday 21 February 2024 at 11:59 PM**. Please contact Juho Heimonen (juaheim@utu.fi) if you have any questions about this exercise.\n",
    "\n",
    "---\n"
   ]
  },
  {
   "cell_type": "markdown",
   "metadata": {},
   "source": [
    "Dear Data Scientist,\n",
    "\n",
    "I have a long-term research project regarding a specific set of proteins. Currently I am attempting to discover small organic compounds that can bind strongly to these proteins and thus act as drugs. I have a list of over 100.000 potential drug molecules, but their affinities still need to be verified in the lab. Obviously I do not have the resources to measure all the possible drug-target pairs, so I need to prioritise. I have decided to do this with the use of machine learning, but I have encountered a problem.\n",
    "\n",
    "Here is what I have done so far: First I trained a K-nearest neighbours regressor with the parameter value K=10 using all the 400 measurements I had made in the lab, which comprise of all the 77 target proteins of interest but only 59 different drug molecules. Then I performed a leave-one-out cross-validation with this same data to estimate the generalisation performance of the model. I used C-index and got a stellar score above 90%. Finally I used the model to predict the affinities of the remaining drug molecules. The problem is: when I selected the highest predicted affinities and tried to verify them in the lab, I found that many of them are much lower in reality. My model clearly does not work despite the high cross-validation score.\n",
    "\n",
    "Please explain why my estimation failed and how leave-one-out cross-validation should be performed to get a reliable estimate. Also, implement the correct leave-one-out cross-validation and report its results. I need to know whether I am wasting my lab resources by using my model.\n",
    "\n",
    "The data I used to create my model is available in the files `input.data`, `output.data` and `pairs.data` for you to use. The first file contains the features of the pairs, whereas the second contains their affinities. The third file contains the identifiers of the drug and target molecules of which the pairs are composed. The files are paired, i.e. the i<sup>*th*</sup> row in each file is about the same pair.\n",
    "\n",
    "Looking forward to hearing from you soon.\n",
    "\n",
    "Yours sincerely, \\\n",
    "Bio Scientist\n",
    "\n",
    "---"
   ]
  },
  {
   "cell_type": "markdown",
   "metadata": {},
   "source": [
    "#### Answer the questions about cross-validation on pair-input data"
   ]
  },
  {
   "cell_type": "code",
   "execution_count": 1,
   "metadata": {},
   "outputs": [],
   "source": [
    "# Why did the estimation described in the letter fail?\n",
    "# > Because data is pair-input observations, and the regular loocv is not suitable for this kind of data.\n",
    "# There are dependencies between the pairs of observations, which skews the results to be overly optimistic.\n",
    "#\n",
    "# How should leave-one-out cross-validation be performed in the given scenario and why?\n",
    "# > The training observations will be chosen for different out-of-sample A, B, C and D.\n",
    "# A: No restriction on the training observations\n",
    "# B: The target protein of test observation is not allowed to be in the training observations\n",
    "# C: The drug of test observation is not allowed to be in the training observations\n",
    "# D: Both target protein and drug of test observation are not allowed to be in the training observations\n",
    "# This will give 4 different C-index scores for each out-of-sample type"
   ]
  },
  {
   "cell_type": "markdown",
   "metadata": {},
   "source": [
    "#### Import libraries"
   ]
  },
  {
   "cell_type": "code",
   "execution_count": 2,
   "metadata": {},
   "outputs": [],
   "source": [
    "# Import the libraries you need.\n",
    "import numpy as np\n",
    "import pandas as pd\n",
    "from sklearn.neighbors import KNeighborsRegressor"
   ]
  },
  {
   "cell_type": "markdown",
   "metadata": {},
   "source": [
    "#### Write utility functions"
   ]
  },
  {
   "cell_type": "code",
   "execution_count": 3,
   "metadata": {},
   "outputs": [],
   "source": [
    "# I'm using the same C-index function that was provided in the first exercise\n",
    "### Function for calculating C-index ###\n",
    "# y: array containing true label values.\n",
    "# yp: array containing the predicted label values.\n",
    "def cindex(y, yp):\n",
    "    n = 0\n",
    "    h_num = 0 \n",
    "    for i in range(0, len(y)):\n",
    "        t = y[i]\n",
    "        p = yp[i]\n",
    "        for j in range(i+1, len(y)):\n",
    "            nt = y[j]\n",
    "            np = yp[j]\n",
    "            if (t != nt): \n",
    "                n = n + 1\n",
    "                if (p < np and t < nt) or (p > np and t > nt): \n",
    "                    h_num += 1\n",
    "                elif (p == np):\n",
    "                    h_num += 0.5\n",
    "    return h_num/n\n",
    "\n",
    "\n"
   ]
  },
  {
   "cell_type": "markdown",
   "metadata": {},
   "source": [
    "#### Load datasets"
   ]
  },
  {
   "cell_type": "code",
   "execution_count": 4,
   "metadata": {},
   "outputs": [
    {
     "name": "stdout",
     "output_type": "stream",
     "text": [
      "Input shape: (400, 67)\n",
      "Output shape: (400, 1)\n",
      "Pairs shape: (400, 2)\n"
     ]
    }
   ],
   "source": [
    "# Read the data files (input.data, output.data, pairs.data).\n",
    "df_input = pd.read_csv(\"input.data\", delimiter=\" \", header=None)\n",
    "df_output = pd.read_csv(\"output.data\", delimiter=\" \", header=None)\n",
    "df_pairs = pd.read_csv(\"pairs.data\", delimiter=\" \", header=None, names=['D', 'T'])\n",
    "# Print shapes of data to check if they are read correctly\n",
    "print(\"Input shape:\",df_input.shape)\n",
    "print(\"Output shape:\",df_output.shape)\n",
    "print(\"Pairs shape:\",df_pairs.shape)"
   ]
  },
  {
   "cell_type": "markdown",
   "metadata": {},
   "source": [
    "#### Implement and run cross-validation"
   ]
  },
  {
   "cell_type": "code",
   "execution_count": 5,
   "metadata": {},
   "outputs": [
    {
     "name": "stdout",
     "output_type": "stream",
     "text": [
      "C-indexes: A: 0.83 B: 0.83 C: 0.52 D: 0.522\n"
     ]
    }
   ],
   "source": [
    "# Implement and run the requested cross-validation. Report and interpret its results.\n",
    "\n",
    "### Function for special leave-one-out cross-validation (LOOCV) ###\n",
    "def pair_input_cv(k, df_pairs, df_in, df_out):\n",
    "\n",
    "    # We'll calculate C-index for all 4 different types of out-of-sample observations\n",
    "    types = [\"A\", \"B\", \"C\", \"D\"]\n",
    "\n",
    "    # Number of input rows\n",
    "    n = df_in.shape[0]\n",
    "    \n",
    "    # Store actual values and predictions for C-index calculation\n",
    "    A_true_values = []\n",
    "    A_predictions = []\n",
    "    B_true_values = []\n",
    "    B_predictions = []\n",
    "    C_true_values = []\n",
    "    C_predictions = []\n",
    "    D_true_values = []\n",
    "    D_predictions = []\n",
    "\n",
    "    # Loop over each row to use as test set\n",
    "    for i in range(n):\n",
    "        for type in types:\n",
    "            X = df_in\n",
    "            y = df_out\n",
    "\n",
    "            # Use the i-th data point as test set\n",
    "            X_test = df_in.iloc[[i]]\n",
    "            y_test = df_out.iloc[[i]]\n",
    "\n",
    "            if type == \"B\":\n",
    "                # The target protein of test observation is not allowed to be in the training observations\n",
    "                indices_to_remove = df_pairs.index[df_pairs['T'] == df_pairs['T'].iloc[i]].tolist()\n",
    "            elif type == \"C\":\n",
    "                # The drug of test observation is not allowed to be in the training observations\n",
    "                indices_to_remove = df_pairs.index[df_pairs['D'] == df_pairs['D'].iloc[i]].tolist()\n",
    "            elif type == \"D\":\n",
    "                # Both target protein and drug of test observation are not allowed to be in the training observations\n",
    "                indices_to_remove = df_pairs.index[(df_pairs['D'] == df_pairs['D'].iloc[i]) | (df_pairs['T'] == df_pairs['T'].iloc[i])].tolist()\n",
    "            else:\n",
    "                # A, no restriction on the training observations\n",
    "                indices_to_remove = []\n",
    "\n",
    "            # Add current test index to be removed\n",
    "            indices_to_remove.append(i)\n",
    "\n",
    "            # Drop the indices from the training data\n",
    "            X_train = X.drop(index=indices_to_remove, inplace=False)\n",
    "            y_train = y.drop(index=indices_to_remove, inplace=False)\n",
    "        \n",
    "            # Fit the kNN model\n",
    "            knn = KNeighborsRegressor(n_neighbors=k)\n",
    "            knn.fit(X_train, y_train)\n",
    "        \n",
    "            # Predict model on the left out data point\n",
    "            y_pred = knn.predict(X_test)\n",
    "\n",
    "            # Store the predictions and true values\n",
    "            if type == \"A\":\n",
    "                A_predictions.append(y_pred)\n",
    "                A_true_values.append(y_test.values.flatten())\n",
    "            elif type == \"B\":\n",
    "                B_predictions.append(y_pred)\n",
    "                B_true_values.append(y_test.values.flatten())\n",
    "            elif type == \"C\":\n",
    "                C_predictions.append(y_pred)\n",
    "                C_true_values.append(y_test.values.flatten())\n",
    "            elif type == \"D\":\n",
    "                D_predictions.append(y_pred)\n",
    "                D_true_values.append(y_test.values.flatten())\n",
    "\n",
    "\n",
    "    # At the end, calculate the C-index using provided function\n",
    "    cind_A = cindex(A_true_values, A_predictions)\n",
    "    cind_B = cindex(B_true_values, B_predictions)\n",
    "    cind_C = cindex(C_true_values, C_predictions)\n",
    "    cind_D = cindex(D_true_values, D_predictions)\n",
    "    \n",
    "    return [cind_A, cind_B, cind_C, cind_D]\n",
    "\n",
    "\n",
    "# Using k=10 for kNN as stated in case\n",
    "k = 10 \n",
    "\n",
    "# Calculate C-index for each case A, B, C and D\n",
    "c_indexes = pair_input_cv(k, df_pairs, df_input, df_output)\n",
    "print(f\"C-indexes: A: {round(c_indexes[0],3)} B: {round(c_indexes[1],3)} C: {round(c_indexes[2],3)} D: {round(c_indexes[3],3)}\")\n",
    "\n",
    "# As a result we get C-indexes: A: 0.83 B: 0.83 C: 0.52 D: 0.522\n",
    "# This time we get more realistic results, where performance in cases C and D are significantly lower \n",
    "# as expected since only some of the drugs molecules were used in the observations, whereas all the target proteins were used."
   ]
  }
 ],
 "metadata": {
  "kernelspec": {
   "display_name": "Python 3",
   "language": "python",
   "name": "python3"
  },
  "language_info": {
   "codemirror_mode": {
    "name": "ipython",
    "version": 3
   },
   "file_extension": ".py",
   "mimetype": "text/x-python",
   "name": "python",
   "nbconvert_exporter": "python",
   "pygments_lexer": "ipython3",
   "version": "3.9.0"
  }
 },
 "nbformat": 4,
 "nbformat_minor": 2
}
